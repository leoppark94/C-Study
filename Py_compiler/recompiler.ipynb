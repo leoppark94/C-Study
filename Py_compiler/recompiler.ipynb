{
 "cells": [
  {
   "cell_type": "code",
   "execution_count": 1,
   "id": "3a6b66b0",
   "metadata": {},
   "outputs": [],
   "source": [
    "import os\n",
    "import shutil\n",
    "import py_compile\n",
    "\n",
    "def main(src_dir):\n",
    "    src_dir = os.getcwd()\n",
    "    target_dir = os.path.join(src_dir, 'compiled')\n",
    "    src_list = ['fitpet_main_2.py']\n",
    "    \n",
    "    if not os.path.exists(target_dir):\n",
    "        print('Target Dir is Not exist', target_dir)\n",
    "        os.mkdir (target_dir)\n",
    "        \n",
    "    for dst_file in src_list:\n",
    "        \n",
    "        if (dst_file.endswith('.py')):\n",
    "            \n",
    "            compiled_py = dst_file.replace('.py', '.pyc')\n",
    "            print(dst_file, '--> pyc')\n",
    "            \n",
    "            py_compile.compile(dst_file, os.path.join(target_dir, compiled_py))\n",
    "            \n",
    "        else:\n",
    "            shutil.copy(os.path.join(src_dir, dst_file), target_dir)\n",
    "        "
   ]
  },
  {
   "cell_type": "code",
   "execution_count": 2,
   "id": "f98e8e59",
   "metadata": {},
   "outputs": [
    {
     "name": "stdout",
     "output_type": "stream",
     "text": [
      "fitpet_main_2.py --> pyc\n"
     ]
    }
   ],
   "source": [
    "main('D:\\Github\\Py_compiler')"
   ]
  },
  {
   "cell_type": "code",
   "execution_count": null,
   "id": "28175834",
   "metadata": {},
   "outputs": [],
   "source": []
  }
 ],
 "metadata": {
  "kernelspec": {
   "display_name": "Python 3",
   "language": "python",
   "name": "python3"
  },
  "language_info": {
   "codemirror_mode": {
    "name": "ipython",
    "version": 3
   },
   "file_extension": ".py",
   "mimetype": "text/x-python",
   "name": "python",
   "nbconvert_exporter": "python",
   "pygments_lexer": "ipython3",
   "version": "3.7.2"
  }
 },
 "nbformat": 4,
 "nbformat_minor": 5
}
